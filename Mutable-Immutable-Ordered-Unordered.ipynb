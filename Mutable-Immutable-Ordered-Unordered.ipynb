{
 "cells": [
  {
   "cell_type": "markdown",
   "id": "d259fa3d",
   "metadata": {},
   "source": [
    "# List\n",
    "Mutable - Ordered"
   ]
  },
  {
   "cell_type": "code",
   "execution_count": 11,
   "id": "8d54b22c",
   "metadata": {},
   "outputs": [
    {
     "name": "stdout",
     "output_type": "stream",
     "text": [
      "[1, 2, 3, 4, 5, 6]\n",
      "1\n",
      "2629384169024\n",
      "[233, 2, 3, 4, 5, 6]\n",
      "2629384169024\n"
     ]
    }
   ],
   "source": [
    "list1=[1,2,3,4,5,6]\n",
    "print(list1)\n",
    "print(list1[0])\n",
    "print(id(list1))\n",
    "list1[0]=233\n",
    "print(list1)\n",
    "print(id(list1))"
   ]
  },
  {
   "cell_type": "markdown",
   "id": "e6e41a9a",
   "metadata": {},
   "source": [
    "# Tuple\n",
    "Immutable - Ordered"
   ]
  },
  {
   "cell_type": "code",
   "execution_count": 13,
   "id": "1f14812c",
   "metadata": {},
   "outputs": [
    {
     "name": "stdout",
     "output_type": "stream",
     "text": [
      "(1, 2, 3, 4, 5, 6)\n",
      "1\n",
      "2629379560256\n"
     ]
    },
    {
     "ename": "TypeError",
     "evalue": "'tuple' object does not support item assignment",
     "output_type": "error",
     "traceback": [
      "\u001b[1;31m---------------------------------------------------------------------------\u001b[0m",
      "\u001b[1;31mTypeError\u001b[0m                                 Traceback (most recent call last)",
      "\u001b[1;32m<ipython-input-13-b81b44e49499>\u001b[0m in \u001b[0;36m<module>\u001b[1;34m\u001b[0m\n\u001b[0;32m      3\u001b[0m \u001b[0mprint\u001b[0m\u001b[1;33m(\u001b[0m\u001b[0mtuple1\u001b[0m\u001b[1;33m[\u001b[0m\u001b[1;36m0\u001b[0m\u001b[1;33m]\u001b[0m\u001b[1;33m)\u001b[0m\u001b[1;33m\u001b[0m\u001b[1;33m\u001b[0m\u001b[0m\n\u001b[0;32m      4\u001b[0m \u001b[0mprint\u001b[0m\u001b[1;33m(\u001b[0m\u001b[0mid\u001b[0m\u001b[1;33m(\u001b[0m\u001b[0mtuple1\u001b[0m\u001b[1;33m)\u001b[0m\u001b[1;33m)\u001b[0m\u001b[1;33m\u001b[0m\u001b[1;33m\u001b[0m\u001b[0m\n\u001b[1;32m----> 5\u001b[1;33m \u001b[0mtuple1\u001b[0m\u001b[1;33m[\u001b[0m\u001b[1;36m0\u001b[0m\u001b[1;33m]\u001b[0m\u001b[1;33m=\u001b[0m\u001b[1;36m233\u001b[0m\u001b[1;33m\u001b[0m\u001b[1;33m\u001b[0m\u001b[0m\n\u001b[0m\u001b[0;32m      6\u001b[0m \u001b[0mprint\u001b[0m\u001b[1;33m(\u001b[0m\u001b[0mtuple1\u001b[0m\u001b[1;33m)\u001b[0m\u001b[1;33m\u001b[0m\u001b[1;33m\u001b[0m\u001b[0m\n\u001b[0;32m      7\u001b[0m \u001b[0mprint\u001b[0m\u001b[1;33m(\u001b[0m\u001b[0mid\u001b[0m\u001b[1;33m(\u001b[0m\u001b[0mtuple1\u001b[0m\u001b[1;33m)\u001b[0m\u001b[1;33m)\u001b[0m\u001b[1;33m\u001b[0m\u001b[1;33m\u001b[0m\u001b[0m\n",
      "\u001b[1;31mTypeError\u001b[0m: 'tuple' object does not support item assignment"
     ]
    }
   ],
   "source": [
    "tuple1=(1,2,3,4,5,6)\n",
    "print(tuple1)\n",
    "print(tuple1[0])\n",
    "print(id(tuple1))\n",
    "tuple1[0]=233\n",
    "print(tuple1)\n",
    "print(id(tuple1))"
   ]
  },
  {
   "cell_type": "markdown",
   "id": "ed92c3cb",
   "metadata": {},
   "source": [
    "# Dictionary\n",
    "Mutable - Un-ordered"
   ]
  },
  {
   "cell_type": "code",
   "execution_count": 8,
   "id": "3a6fe16a",
   "metadata": {},
   "outputs": [
    {
     "data": {
      "text/plain": [
       "<function dict.keys>"
      ]
     },
     "execution_count": 8,
     "metadata": {},
     "output_type": "execute_result"
    }
   ],
   "source": [
    "dict1={'one':4343,'one':2222,'two':2,'three':3,4:4,5:5,6:6}"
   ]
  },
  {
   "cell_type": "code",
   "execution_count": 4,
   "id": "999f9a7e",
   "metadata": {},
   "outputs": [
    {
     "name": "stdout",
     "output_type": "stream",
     "text": [
      "{'one': 1, 'two': 2, 'three': 3, 4: 4, 5: 5, 6: 6}\n",
      "4\n",
      "1992245194880\n",
      "{'one': 1, 'two': 2, 'three': 3, 4: 233, 5: 5, 6: 6}\n",
      "1992245194880\n"
     ]
    }
   ],
   "source": [
    "dict1={'one':1,'two':2,'three':3,3:4,5:5,6:6}\n",
    "print(dict1)\n",
    "print(dict1[4])\n",
    "print(id(dict1))\n",
    "dict1[4]=233\n",
    "print(dict1)\n",
    "print(id(dict1))"
   ]
  },
  {
   "cell_type": "markdown",
   "id": "f566b489",
   "metadata": {},
   "source": [
    "# Set\n",
    "Immutable - Un-ordered"
   ]
  },
  {
   "cell_type": "code",
   "execution_count": 16,
   "id": "f0785d80",
   "metadata": {},
   "outputs": [
    {
     "name": "stdout",
     "output_type": "stream",
     "text": [
      "<class 'list'>\n"
     ]
    }
   ],
   "source": [
    "set1={1,3434342,3,3,4,5,6,3,4,52,222}\n",
    "print(set1)\n",
    "print(set1[0])\n",
    "print(id(set1))\n",
    "set1[0]=233\n",
    "print(set1)\n",
    "print(id(set1))"
   ]
  },
  {
   "cell_type": "code",
   "execution_count": null,
   "id": "bc8b1310",
   "metadata": {},
   "outputs": [],
   "source": [
    "letters = 'abcdefghijklmnopqrstuvwxyzABCDEFGHIJKLMNOPQRSTUVWXYZ'\n",
    "\n",
    "string_letters = str(letters)\n",
    "lists_letters = list(letters)\n",
    "tuples_letters = tuple(letters)\n",
    "sets_letters = set(letters)\n",
    "\n",
    "print(\"String: \", string_letters)\n",
    "print() # for new line\n",
    "print(\"Lists: \", lists_letters)\n",
    "print() # for new line\n",
    "print(\"Tuples: \", tuples_letters)\n",
    "print() # for new line\n",
    "print(\"Sets: \", sets_letters)"
   ]
  }
 ],
 "metadata": {
  "kernelspec": {
   "display_name": "Python 3",
   "language": "python",
   "name": "python3"
  },
  "language_info": {
   "codemirror_mode": {
    "name": "ipython",
    "version": 3
   },
   "file_extension": ".py",
   "mimetype": "text/x-python",
   "name": "python",
   "nbconvert_exporter": "python",
   "pygments_lexer": "ipython3",
   "version": "3.8.8"
  }
 },
 "nbformat": 4,
 "nbformat_minor": 5
}
