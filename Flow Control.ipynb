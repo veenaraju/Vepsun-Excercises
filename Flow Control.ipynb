{
 "cells": [
  {
   "cell_type": "markdown",
   "id": "bd8eef31",
   "metadata": {},
   "source": [
    "# Flow Control"
   ]
  },
  {
   "cell_type": "markdown",
   "id": "1a73dabf",
   "metadata": {},
   "source": [
    "**if...else**"
   ]
  },
  {
   "cell_type": "code",
   "execution_count": 1,
   "id": "70f84fe4",
   "metadata": {},
   "outputs": [
    {
     "name": "stdout",
     "output_type": "stream",
     "text": [
      "7 is a Non-zero value\n",
      "Thank you\n"
     ]
    }
   ],
   "source": [
    "num=7\n",
    "if(num>0):\n",
    "    print(num, \"is a Non-zero value\")\n",
    "print(\"Thank you\")"
   ]
  },
  {
   "cell_type": "code",
   "execution_count": 2,
   "id": "20576086",
   "metadata": {},
   "outputs": [
    {
     "name": "stdout",
     "output_type": "stream",
     "text": [
      "Non-zero or zero\n"
     ]
    }
   ],
   "source": [
    "num=7\n",
    "if(num>=0):\n",
    "    print(\"Non-zero or zero\")\n",
    "else:\n",
    "    print(\"negative number\")"
   ]
  },
  {
   "cell_type": "markdown",
   "id": "3cd03ee3",
   "metadata": {},
   "source": [
    "**Nested if-else**"
   ]
  },
  {
   "cell_type": "code",
   "execution_count": 3,
   "id": "0fcf4c8e",
   "metadata": {},
   "outputs": [
    {
     "name": "stdout",
     "output_type": "stream",
     "text": [
      "Pos.number\n"
     ]
    }
   ],
   "source": [
    "num=6.7\n",
    "if(num>0):\n",
    "    print(\"Pos.number\")\n",
    "elif(num==0):\n",
    "    print(\"Zero\")\n",
    "else:\n",
    "    print(\"Neg. number\")"
   ]
  },
  {
   "cell_type": "code",
   "execution_count": 4,
   "id": "ae18b75e",
   "metadata": {},
   "outputs": [
    {
     "name": "stdout",
     "output_type": "stream",
     "text": [
      "not found\n"
     ]
    }
   ],
   "source": [
    "status=401\n",
    "status1=500\n",
    "\n",
    "if(status==400):\n",
    "    print(\"bad rquest\")\n",
    "elif(status1==500):\n",
    "    print(\"not found\")"
   ]
  },
  {
   "cell_type": "markdown",
   "id": "de287972",
   "metadata": {},
   "source": [
    "**match Statements in Python 3.10**"
   ]
  },
  {
   "cell_type": "code",
   "execution_count": 5,
   "id": "cab540ae",
   "metadata": {},
   "outputs": [
    {
     "ename": "SyntaxError",
     "evalue": "invalid syntax (<ipython-input-5-96c76044665d>, line 2)",
     "output_type": "error",
     "traceback": [
      "\u001b[1;36m  File \u001b[1;32m\"<ipython-input-5-96c76044665d>\"\u001b[1;36m, line \u001b[1;32m2\u001b[0m\n\u001b[1;33m    match status:\u001b[0m\n\u001b[1;37m          ^\u001b[0m\n\u001b[1;31mSyntaxError\u001b[0m\u001b[1;31m:\u001b[0m invalid syntax\n"
     ]
    }
   ],
   "source": [
    "# this code will work in Python 3.10\n",
    "status=400\n",
    "match status:\n",
    "    case 400:\n",
    "        request= \"Bad request\"\n",
    "    case 404:\n",
    "        request= \"Not found\"\n",
    "    case 418:\n",
    "        request= \"I'm a teapot\"\n",
    "    case _:\n",
    "        request= \"Something's wrong with the internet\"\n",
    "        \n",
    "print(\"Request failed,details=\",request)"
   ]
  },
  {
   "cell_type": "markdown",
   "id": "ec17f2e9",
   "metadata": {},
   "source": [
    "**Ternary Operator**"
   ]
  },
  {
   "cell_type": "code",
   "execution_count": 6,
   "id": "2cee907f",
   "metadata": {},
   "outputs": [
    {
     "name": "stdout",
     "output_type": "stream",
     "text": [
      "20\n"
     ]
    }
   ],
   "source": [
    "# Program to demonstrate conditional operator\n",
    "a, b = 100, 20\n",
    "\n",
    "# Copy value of a in min if a < b else copy b\n",
    "min = a if a < b else b\n",
    "\n",
    "print(min)"
   ]
  },
  {
   "cell_type": "markdown",
   "id": "aed2fb8e",
   "metadata": {},
   "source": [
    "**for loop**"
   ]
  },
  {
   "cell_type": "code",
   "execution_count": 7,
   "id": "f313134c",
   "metadata": {},
   "outputs": [
    {
     "name": "stdout",
     "output_type": "stream",
     "text": [
      "The sum is  55\n"
     ]
    }
   ],
   "source": [
    "numbers=[1,2,3,4,5,6,7,8,9,10]\n",
    "sum=0\n",
    "for val in numbers:\n",
    "    sum=sum+val\n",
    "print(\"The sum is \",sum)"
   ]
  },
  {
   "cell_type": "code",
   "execution_count": 8,
   "id": "f394ecfe",
   "metadata": {},
   "outputs": [
    {
     "name": "stdout",
     "output_type": "stream",
     "text": [
      "List Iteration\n",
      "geeks\n",
      "for\n",
      "geeks\n",
      "\n",
      "Tuple Iteration\n",
      "geeks\n",
      "for\n",
      "geeks\n",
      "\n",
      "String Iteration\n",
      "G\n",
      "e\n",
      "e\n",
      "k\n",
      "s\n",
      "\n",
      "Dictionary Iteration\n",
      "xyz  123\n",
      "abc  345\n"
     ]
    }
   ],
   "source": [
    "# Python program to illustrate\n",
    "# Iterating over a list\n",
    "print(\"List Iteration\")\n",
    "l = [\"geeks\", \"for\", \"geeks\"]\n",
    "for i in l:\n",
    "    print(i)\n",
    "\n",
    "# Iterating over a tuple (immutable)\n",
    "print(\"\\nTuple Iteration\")\n",
    "t = (\"geeks\", \"for\", \"geeks\")\n",
    "for i in t:\n",
    "    print(i)\n",
    "\n",
    "# Iterating over a String\n",
    "print(\"\\nString Iteration\")\n",
    "s = \"Geeks\"\n",
    "for i in s:\n",
    "    print(i)\n",
    "\n",
    "# Iterating over dictionary\n",
    "print(\"\\nDictionary Iteration\")\n",
    "# {'xyz':123,'abc':345}\n",
    "d = dict()\n",
    "d['xyz'] = 123\n",
    "d['abc'] = 345\n",
    "for i in d:\n",
    "    print(\"% s % d\" % (i, d[i]))\n"
   ]
  },
  {
   "cell_type": "code",
   "execution_count": 21,
   "id": "18ed0127",
   "metadata": {},
   "outputs": [
    {
     "name": "stdout",
     "output_type": "stream",
     "text": [
      "Print without formatting 301.88\n",
      "The value of pi is: 301.9\n"
     ]
    }
   ],
   "source": [
    "# We can use format functions in print statements to print the values in the required format.\n",
    "# eg; if we want to print c not as 301.88 but as 301.8 then we can use format options.\n",
    "a=100.89\n",
    "b=200.99\n",
    "c=a+b\n",
    "print(\"Print without formatting\",c)\n",
    "print('The value of pi is: %.1f' %(c)) # here .1f is used to specify how many decimal places."
   ]
  },
  {
   "cell_type": "code",
   "execution_count": 10,
   "id": "7ec4ec27",
   "metadata": {},
   "outputs": [
    {
     "name": "stdout",
     "output_type": "stream",
     "text": [
      "100200\n"
     ]
    }
   ],
   "source": [
    "# here the concatenation works as both a and b are string values\n",
    "a=\"100\"\n",
    "b=\"200\"\n",
    "c=a+b\n",
    "print(c)"
   ]
  },
  {
   "cell_type": "code",
   "execution_count": 22,
   "id": "ad8ff4a7",
   "metadata": {},
   "outputs": [
    {
     "name": "stdout",
     "output_type": "stream",
     "text": [
      "2021-11-21 19:38:24.493668\n",
      "Year short version    : 21\n"
     ]
    }
   ],
   "source": [
    "from datetime import datetime\n",
    "\n",
    "dt = datetime.now()\n",
    "print(dt)\n",
    "print(dt.strftime('Year short version    : %y'))"
   ]
  },
  {
   "cell_type": "code",
   "execution_count": null,
   "id": "25741a7d",
   "metadata": {},
   "outputs": [],
   "source": [
    "from datetime import datetime\n",
    "\n",
    "dt = datetime.now()\n",
    "\n",
    "print(dt)\n",
    "print('\\nDirectives\\n--------------')\n",
    "print(dt.strftime('Weekday short version : %a'))\n",
    "print(dt.strftime('Weekday full version  : %A'))\n",
    "print(dt.strftime('Weekday as a number   : %w'))\n",
    "print(dt.strftime('Day of month          : %d'))\n",
    "print(dt.strftime('Month Name short ver  : %d'))\n",
    "print(dt.strftime('Month Name full ver   : %b'))\n",
    "print(dt.strftime('Month as a number     : %m'))\n",
    "print(dt.strftime('Year short version    : %y'))\n",
    "print(dt.strftime('Year full version     : %Y'))\n",
    "print(dt.strftime('Hour (00-23)          : %H'))\n",
    "print(dt.strftime('Hour (00-11)          : %I'))\n",
    "print(dt.strftime('AM/PM                 : %p'))\n",
    "print(dt.strftime('Minute                : %M'))\n",
    "print(dt.strftime('Second                : %S'))\n",
    "\n",
    "\n",
    "print('\\nFormatted Date Strings\\n--------------')\n",
    "print(dt.strftime('%a %d-%m-%Y'))\n",
    "print(dt.strftime('%a %d/%m/%Y'))\n",
    "print(dt.strftime('%a %d/%m/%y'))\n",
    "print(dt.strftime('%A %d-%m-%Y, %H:%M:%S'))\n",
    "print(dt.strftime('%X %x'))"
   ]
  },
  {
   "cell_type": "code",
   "execution_count": 23,
   "id": "bd3403de",
   "metadata": {},
   "outputs": [
    {
     "name": "stdout",
     "output_type": "stream",
     "text": [
      "0 1 2 3 4 5 6 7 8 9 \n",
      "10 20 30 40 \n",
      "Sum of first 10 numbers : 45\n"
     ]
    }
   ],
   "source": [
    "# Python Program to\n",
    "# show range() basics\n",
    "\n",
    "# printing a number\n",
    "for i in range(10):\n",
    "\tprint(i, end=\" \")\n",
    "print()\n",
    "\n",
    "# using range for iteration\n",
    "l = [10, 20, 30, 40]\n",
    "for i in range(len(l)):\n",
    "\tprint(l[i], end=\" \")\n",
    "print()\n",
    "\n",
    "# performing sum of first 10 numbers\n",
    "sum = 0\n",
    "for i in range(1, 10):\n",
    "\tsum = sum + i\n",
    "print(\"Sum of first 10 numbers :\", sum)\n"
   ]
  },
  {
   "cell_type": "code",
   "execution_count": 24,
   "id": "f69056cf",
   "metadata": {},
   "outputs": [
    {
     "name": "stdout",
     "output_type": "stream",
     "text": [
      "1 10\n",
      "1 20\n",
      "1 30\n",
      "2 10\n",
      "2 20\n",
      "2 30\n",
      "3 10\n",
      "3 20\n",
      "3 30\n"
     ]
    }
   ],
   "source": [
    "# Nested For Loop\n",
    "\n",
    "l1 = [1, 2, 3]\n",
    "l2 = [10, 20, 30]\n",
    "\n",
    "\n",
    "for i in l1:\n",
    "    for j in l2:\n",
    "        print(i, j)"
   ]
  },
  {
   "cell_type": "markdown",
   "id": "875a1ef5",
   "metadata": {},
   "source": [
    "**while loop**"
   ]
  },
  {
   "cell_type": "code",
   "execution_count": 25,
   "id": "9fbace71",
   "metadata": {},
   "outputs": [
    {
     "name": "stdout",
     "output_type": "stream",
     "text": [
      "Hello Geek\n",
      "Hello Geek\n",
      "Hello Geek\n"
     ]
    }
   ],
   "source": [
    "# Python program to illustrate\n",
    "# while loop\n",
    "count=0\n",
    "while (count < 3):\n",
    "    count = count + 1\n",
    "    print(\"Hello Geek\")"
   ]
  },
  {
   "cell_type": "code",
   "execution_count": 26,
   "id": "0bee9924",
   "metadata": {},
   "outputs": [
    {
     "name": "stdout",
     "output_type": "stream",
     "text": [
      "1\n",
      "2\n",
      "3\n",
      "4\n",
      "No Break\n",
      "\n",
      "1\n"
     ]
    }
   ],
   "source": [
    "# Python program to demonstrate\n",
    "# while-else loop\n",
    "\n",
    "i = 0\n",
    "while i < 4:\n",
    "\ti += 1\n",
    "\tprint(i)\n",
    "else: # Executed because no break in for\n",
    "\tprint(\"No Break\\n\")\n",
    "\n",
    "i = 0\n",
    "while i < 4:\n",
    "\ti += 1\n",
    "\tprint(i)\n",
    "\tbreak\n",
    "else: # Not executed as there is a break\n",
    "\tprint(\"No Break\")\n"
   ]
  },
  {
   "cell_type": "code",
   "execution_count": 27,
   "id": "5b1de8cf",
   "metadata": {},
   "outputs": [
    {
     "name": "stdout",
     "output_type": "stream",
     "text": [
      "Current Letter : g\n",
      "Current Letter : k\n",
      "Current Letter : f\n",
      "Current Letter : o\n",
      "Current Letter : r\n",
      "Current Letter : g\n",
      "Current Letter : k\n"
     ]
    }
   ],
   "source": [
    "# Prints all letters except 'e' and 's'\n",
    "i = 0\n",
    "a = 'geeksforgeeks'\n",
    "\n",
    "while i < len(a):\n",
    "\tif a[i] == 'e' or a[i] == 's':\n",
    "\t\ti += 1\n",
    "\t\tcontinue\n",
    "\t\t\n",
    "\tprint('Current Letter :', a[i])\n",
    "\ti += 1\n"
   ]
  },
  {
   "cell_type": "markdown",
   "id": "3deda19b",
   "metadata": {},
   "source": [
    "**Sentinel Controlled Statement**"
   ]
  },
  {
   "cell_type": "markdown",
   "id": "cedc2293",
   "metadata": {},
   "source": [
    "we don’t use any counter variable because we don’t know that how many times the loop will execute. Here user decides that how many times he wants to execute the loop. For this, we use a sentinel value. A sentinel value is a value that is used to terminate a loop whenever a user enters it, generally, the sentinel value is -1."
   ]
  },
  {
   "cell_type": "code",
   "execution_count": 28,
   "id": "b0ba8a46",
   "metadata": {},
   "outputs": [
    {
     "name": "stdout",
     "output_type": "stream",
     "text": [
      "Enter a number (-1 to quit): 1\n",
      "Enter a number (-1 to quit): -1\n"
     ]
    }
   ],
   "source": [
    "a = int(input('Enter a number (-1 to quit): '))\n",
    "\n",
    "while a != -1:\n",
    "\ta = int(input('Enter a number (-1 to quit): '))\n"
   ]
  },
  {
   "cell_type": "markdown",
   "id": "e065fefc",
   "metadata": {},
   "source": [
    "**break**"
   ]
  },
  {
   "cell_type": "code",
   "execution_count": 29,
   "id": "5812db06",
   "metadata": {},
   "outputs": [
    {
     "name": "stdout",
     "output_type": "stream",
     "text": [
      "Current Letter : g\n"
     ]
    }
   ],
   "source": [
    "for letter in 'geeksforgeeks':\n",
    "    # break the loop as soon it sees 'e'\n",
    "    # or 's'\n",
    "    if letter == 'e' or letter == 's':\n",
    "        break\n",
    "    print('Current Letter :', letter)"
   ]
  },
  {
   "cell_type": "markdown",
   "id": "76b6312f",
   "metadata": {},
   "source": [
    "**continue**"
   ]
  },
  {
   "cell_type": "code",
   "execution_count": 30,
   "id": "1c73ec76",
   "metadata": {},
   "outputs": [
    {
     "name": "stdout",
     "output_type": "stream",
     "text": [
      "Current Letter : g\n",
      "Current Letter : k\n",
      "Current Letter : f\n",
      "Current Letter : o\n",
      "Current Letter : r\n",
      "Current Letter : g\n",
      "Current Letter : k\n"
     ]
    }
   ],
   "source": [
    "# Prints all letters except 'e' and 's'\n",
    "for letter in 'geeksforgeeks':\n",
    "    if letter == 'e' or letter == 's':\n",
    "        continue\n",
    "    print('Current Letter :', letter)"
   ]
  },
  {
   "cell_type": "markdown",
   "id": "99166661",
   "metadata": {},
   "source": [
    "**pass**"
   ]
  },
  {
   "cell_type": "code",
   "execution_count": null,
   "id": "13ba796a",
   "metadata": {},
   "outputs": [],
   "source": [
    "# An empty loop\n",
    "# here if we dont know what will be code that will be written in the while as \n",
    "# of today and want to keep it for future implemenation, we can use pass statement.\n",
    "a = 'geeksforgeeks'\n",
    "i = 0\n",
    "\n",
    "while i < len(a):\n",
    "    i += 1\n",
    "    pass\n",
    "\n",
    "print('Value of i :', i)"
   ]
  }
 ],
 "metadata": {
  "kernelspec": {
   "display_name": "Python 3",
   "language": "python",
   "name": "python3"
  },
  "language_info": {
   "codemirror_mode": {
    "name": "ipython",
    "version": 3
   },
   "file_extension": ".py",
   "mimetype": "text/x-python",
   "name": "python",
   "nbconvert_exporter": "python",
   "pygments_lexer": "ipython3",
   "version": "3.8.8"
  }
 },
 "nbformat": 4,
 "nbformat_minor": 5
}
