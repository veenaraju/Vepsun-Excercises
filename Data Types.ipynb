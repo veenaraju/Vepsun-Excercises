{
 "cells": [
  {
   "cell_type": "markdown",
   "id": "2510bac0",
   "metadata": {},
   "source": [
    "# Numeric Data Types\n",
    "    Number stores numeric values. \n",
    "    The integer, float, and complex values belong to a Python Numbers data-type. \n",
    "    Python provides the type() function to know the data-type of the variable. \n",
    "    Similarly, the isinstance() function is used to check an object belongs to a particular class."
   ]
  },
  {
   "cell_type": "code",
   "execution_count": 3,
   "id": "fd4eb05f",
   "metadata": {},
   "outputs": [
    {
     "name": "stdout",
     "output_type": "stream",
     "text": [
      " c is a complex number False\n"
     ]
    }
   ],
   "source": [
    "a = 16\n",
    "b = 40.5  \n",
    "print(\"The type of b\", type(b))  \n",
    "\n",
    "c = 1+3j  \n",
    "print(\"The type of c\", type(c))  \n",
    "print(\" c is a complex number\", isinstance(c,complex))\n",
    "print(\"b is a float value\",isinstance(b,float))\n",
    "print(\"a is a float value\",isinstance(a,float))"
   ]
  },
  {
   "cell_type": "code",
   "execution_count": 8,
   "id": "610bf127",
   "metadata": {},
   "outputs": [
    {
     "name": "stdout",
     "output_type": "stream",
     "text": [
      "Type of a:  <class 'int'>\n",
      "\n",
      "Type of b:  <class 'float'>\n",
      "\n",
      "Type of c:  <class 'complex'>\n"
     ]
    }
   ],
   "source": [
    "# Python program to\n",
    "# demonstrate numeric value\n",
    "\n",
    "a = 5\n",
    "print(\"Type of a: \", type(a))\n",
    "\n",
    "b = 5.0\n",
    "print(\"\\nType of b: \", type(b))\n",
    "\n",
    "c = 2 + 4j\n",
    "print(\"\\nType of c: \", type(c))\n"
   ]
  },
  {
   "cell_type": "code",
   "execution_count": 9,
   "id": "0e8f33eb",
   "metadata": {},
   "outputs": [
    {
     "name": "stdout",
     "output_type": "stream",
     "text": [
      "Address of e= 2008653704560\n",
      "Address of e= 2008653703888\n"
     ]
    }
   ],
   "source": [
    "e=257\n",
    "print(\"Address of e=\",id(e))\n",
    "d=257\n",
    "print(\"Address of e=\",id(d))"
   ]
  },
  {
   "cell_type": "markdown",
   "id": "37a9aa26",
   "metadata": {},
   "source": [
    "# Sequence Type\n",
    "\n",
    " Sequences allows to store multiple values in an organized and efficient fashion"
   ]
  },
  {
   "cell_type": "markdown",
   "id": "50447b56",
   "metadata": {},
   "source": [
    "**String**\n",
    "\n",
    "    In Python, Strings are arrays of bytes representing Unicode characters. A string is a collection of one or more characters put in a single quote, double-quote or triple quote. In python there is no character data type, a character is a string of length one. It is represented by str class"
   ]
  },
  {
   "cell_type": "code",
   "execution_count": 10,
   "id": "a94fcd64",
   "metadata": {},
   "outputs": [
    {
     "name": "stdout",
     "output_type": "stream",
     "text": [
      "String with the use of Single Quotes:  Welcome to the Geeks World\n",
      "\n",
      "String with the use of Double Quotes: \n",
      "I'm a Geek\n",
      "<class 'str'>\n",
      "\n",
      "String with the use of Triple Quotes: \n",
      "I'm a Geek and I live in a world of \"Geeks\"\n",
      "<class 'str'>\n",
      "\n",
      "Creating a multiline String: \n",
      "Geeks\n",
      "For\n",
      "Life\n"
     ]
    }
   ],
   "source": [
    "# Python Program for\n",
    "# Creation of String\n",
    "\n",
    "# Creating a String\n",
    "# with single Quotes\n",
    "String1 = 'Welcome to the Geeks World'\n",
    "print(\"String with the use of Single Quotes: \",String1)\n",
    "\n",
    "\n",
    "# Creating a String\n",
    "# with double Quotes\n",
    "String1 = \"I'm a Geek\"\n",
    "print(\"\\nString with the use of Double Quotes: \")\n",
    "print(String1)\n",
    "print(type(String1))\n",
    "\n",
    "# Creating a String\n",
    "# with triple Quotes\n",
    "String1 = '''I'm a Geek and I live in a world of \"Geeks\"'''\n",
    "print(\"\\nString with the use of Triple Quotes: \")\n",
    "print(String1)\n",
    "print(type(String1))\n",
    "\n",
    "# Creating String with triple\n",
    "# Quotes allows multiple lines\n",
    "String1 = '''Geeks\n",
    "For\n",
    "Life'''\n",
    "print(\"\\nCreating a multiline String: \")\n",
    "print(String1)\n"
   ]
  },
  {
   "cell_type": "markdown",
   "id": "29f7f6c2",
   "metadata": {},
   "source": [
    "**Accessing elements of String**\n",
    "\n",
    "    In Python, individual characters of a String can be accessed by using the method of Indexing. \n",
    "    Indexing allows negative address references to access characters from the back of the String, e.g. -1 refers to the last character, -2 refers to the second last character and so on."
   ]
  },
  {
   "cell_type": "code",
   "execution_count": 16,
   "id": "3227b305",
   "metadata": {},
   "outputs": [
    {
     "name": "stdout",
     "output_type": "stream",
     "text": [
      "Initial String: \n",
      "GeeksForGeeks\n",
      "\n",
      "First character of String is: \n",
      "G\n",
      "\n",
      "Last character of String is: \n",
      "s\n"
     ]
    }
   ],
   "source": [
    "# Python Program to Access\n",
    "# characters of String\n",
    "\n",
    "String1 = \"GeeksForGeeks\"\n",
    "print(\"Initial String: \")\n",
    "print(String1)\n",
    "\n",
    "# Printing First character\n",
    "print(\"\\nFirst character of String is: \")\n",
    "print(String1[0])\n",
    "\n",
    "# Printing Last character\n",
    "print(\"\\nLast character of String is: \")\n",
    "print(String1[-1])"
   ]
  },
  {
   "cell_type": "code",
   "execution_count": 18,
   "id": "abccf271",
   "metadata": {},
   "outputs": [
    {
     "ename": "SyntaxError",
     "evalue": "invalid syntax (<ipython-input-18-524482ef636a>, line 2)",
     "output_type": "error",
     "traceback": [
      "\u001b[1;36m  File \u001b[1;32m\"<ipython-input-18-524482ef636a>\"\u001b[1;36m, line \u001b[1;32m2\u001b[0m\n\u001b[1;33m    String1 = \"GeeksForGeeks\"werwerwer\u001b[0m\n\u001b[1;37m                             ^\u001b[0m\n\u001b[1;31mSyntaxError\u001b[0m\u001b[1;31m:\u001b[0m invalid syntax\n"
     ]
    }
   ],
   "source": [
    "# print last character\n",
    "String1 = \"GeeksForGeeks\"\n",
    "print(\"Length of string1\",len(String1))\n",
    "print(\"last character\",String1[len(String1)-1])"
   ]
  },
  {
   "cell_type": "code",
   "execution_count": 29,
   "id": "36ec09d1",
   "metadata": {},
   "outputs": [
    {
     "name": "stdout",
     "output_type": "stream",
     "text": [
      "he\n",
      "o\n"
     ]
    }
   ],
   "source": [
    "#Slicing\n",
    "\n",
    "str1 = 'hello javatpoint' #string str1    \n",
    "str2 = ' how are you' #string str2    \n",
    "print (str1[0:2]) #printing first two character using slice operator    \n",
    "print (str1[4]) #printing 4th character of the string    "
   ]
  },
  {
   "cell_type": "code",
   "execution_count": 31,
   "id": "2ba61b08",
   "metadata": {},
   "outputs": [
    {
     "name": "stdout",
     "output_type": "stream",
     "text": [
      "hello javatpoint hello javatpoint \n",
      "hello javatpoint  how are you\n"
     ]
    }
   ],
   "source": [
    "str1 = 'hello javatpoint ' #string str1 \n",
    "print (str1*2) #printing the string twice    \n",
    "print (str1 + str2) #printing the concatenation of str1 and str2  "
   ]
  },
  {
   "cell_type": "code",
   "execution_count": 34,
   "id": "cd169e16",
   "metadata": {},
   "outputs": [
    {
     "name": "stdout",
     "output_type": "stream",
     "text": [
      "True\n",
      "<class 'bool'>\n"
     ]
    }
   ],
   "source": [
    "#Boolean\n",
    "a=True\n",
    "b=False\n",
    "\n",
    "print(a)\n",
    "print(type(b))"
   ]
  },
  {
   "cell_type": "markdown",
   "id": "42134b8a",
   "metadata": {},
   "source": [
    "#  List\n",
    "    Lists are just like the arrays, declared in other languages which is a ordered collection of data. \n",
    "    It is very flexible as the items in a list do not need to be of the same type.\n",
    "    Lists in Python can be created by just placing the sequence inside the square brackets[]."
   ]
  },
  {
   "cell_type": "code",
   "execution_count": 40,
   "id": "98b63b5e",
   "metadata": {},
   "outputs": [
    {
     "name": "stdout",
     "output_type": "stream",
     "text": [
      "Initial blank List: \n",
      "[]\n",
      "\n",
      "List with the use of String: \n",
      "['GeeksForGeeks']\n",
      "\n",
      "List containing multiple values: \n",
      "Geeks\n",
      "Geeks\n",
      "\n",
      "Multi-Dimensional List: \n",
      "[['Geeks', 'For'], ['Geeks'], [1, 1.4, 1.6]]\n",
      "Geeks\n",
      "after exception\n"
     ]
    }
   ],
   "source": [
    "# Python program to demonstrate\n",
    "# Creation of List\n",
    "\t\n",
    "# Creating a List\n",
    "List = []\n",
    "print(\"Initial blank List: \")\n",
    "print(List)\n",
    "\t\n",
    "# Creating a List with\n",
    "# the use of a String\n",
    "List = ['GeeksForGeeks']\n",
    "print(\"\\nList with the use of String: \")\n",
    "print(List)\n",
    "\t\n",
    "# Creating a List with\n",
    "# the use of multiple values\n",
    "List = [\"Geeks\", \"For\", \"Geeks\"]\n",
    "print(\"\\nList containing multiple values: \")\n",
    "print(List[0])\n",
    "print(List[2])\n",
    "\t\n",
    "# Creating a Multi-Dimensional List\n",
    "# (By Nesting a list inside a List)\n",
    "List = [['Geeks', 'For'], ['Geeks'],[1,1.4,1.6]]\n",
    "print(\"\\nMulti-Dimensional List: \")\n",
    "print(List)\n",
    "print(List[1][0])\n",
    "print(\"after exception\")"
   ]
  },
  {
   "cell_type": "markdown",
   "id": "f1c4f88f",
   "metadata": {},
   "source": [
    "**Accessing elements of List**\n",
    "\n",
    "    In order to access the list items refer to the index number. \n",
    "    Use the index operator [ ] to access an item in a list. \n",
    "    In Python, negative sequence indexes represent positions from the end of the array. \n",
    "    Instead of having to compute the offset as in List[len(List)-3], it is enough to just write List[-3]. \n",
    "    Negative indexing means beginning from the end, -1 refers to the last item, -2 refers to the second-last item, etc."
   ]
  },
  {
   "cell_type": "code",
   "execution_count": 41,
   "id": "eaecb1f4",
   "metadata": {},
   "outputs": [
    {
     "name": "stdout",
     "output_type": "stream",
     "text": [
      "Accessing element from the list\n",
      "Geeks\n",
      "Geeks\n",
      "Accessing element using negative indexing\n",
      "Geeks\n",
      "Geeks\n"
     ]
    }
   ],
   "source": [
    "# Python program to demonstrate\n",
    "# accessing of element from list\n",
    "\t\n",
    "# Creating a List with\n",
    "# the use of multiple values\n",
    "List = [\"Geeks\", \"For\", \"Geeks\"]\n",
    "\t\n",
    "# accessing a element from the\n",
    "# list using index number\n",
    "print(\"Accessing element from the list\")\n",
    "print(List[0])\n",
    "print(List[2])\n",
    "\n",
    "# accessing a element using\n",
    "# negative indexing\n",
    "print(\"Accessing element using negative indexing\")\n",
    "\t\n",
    "# print the last element of list\n",
    "print(List[-1])\n",
    "\t\n",
    "# print the third last element of list\n",
    "print(List[-3])\n"
   ]
  },
  {
   "cell_type": "markdown",
   "id": "7570a7ea",
   "metadata": {},
   "source": [
    "# Tuple\n",
    "\n",
    "    Just like list, tuple is also an ordered collection of Python objects. \n",
    "    The only difference between tuple and list is that tuples are immutable i.e. tuples cannot be modified after it is created. \n",
    "    It is represented by tuple class.\n",
    "    \n",
    "    Note: Tuples can also be created with a single element, but it is a bit tricky. Having one element in the parentheses is not sufficient, there must be a trailing ‘comma’ to make it a tuple.\n",
    "    \n",
    "    Note – Creation of Python tuple without the use of parentheses is known as Tuple Packing."
   ]
  },
  {
   "cell_type": "code",
   "execution_count": 43,
   "id": "acb59a19",
   "metadata": {},
   "outputs": [
    {
     "name": "stdout",
     "output_type": "stream",
     "text": [
      "Initial empty Tuple: \n",
      "()\n",
      "\n",
      "Tuple with the use of String: \n",
      "('Geeks', 'For')\n",
      "\n",
      "Tuple using List: \n",
      "(1, 2, 4, 5, 6)\n",
      "\n",
      "Tuple with the use of function: \n",
      "('G', 'e', 'e', 'k', 's')\n",
      "\n",
      "Tuple with nested tuples: \n",
      "((0, 1, 2, 3), ('python', 'geek'))\n",
      "(0, 1, 2, 3)\n",
      "\n",
      "Tuple Packing: \n",
      "(0, 1, 2, 3)\n"
     ]
    }
   ],
   "source": [
    "# Python program to demonstrate\n",
    "# creation of Set\n",
    "\t\n",
    "# Creating an empty tuple\n",
    "Tuple1 = ()\n",
    "print(\"Initial empty Tuple: \")\n",
    "print (Tuple1)\n",
    "\t\n",
    "# Creating a Tuple with\n",
    "# the use of Strings\n",
    "Tuple1 = ('Geeks', 'For')\n",
    "print(\"\\nTuple with the use of String: \")\n",
    "print(Tuple1)\n",
    "\t\n",
    "# Creating a Tuple with\n",
    "# the use of list\n",
    "list1 = [1, 2, 4, 5, 6]\n",
    "print(\"\\nTuple using List: \")\n",
    "print(tuple(list1))\n",
    "\n",
    "# Creating a Tuple with the\n",
    "# use of built-in function\n",
    "Tuple1 = tuple('Geeks')\n",
    "print(\"\\nTuple with the use of function: \")\n",
    "print(Tuple1)\n",
    "\n",
    "# Creating a Tuple\n",
    "# with nested tuples\n",
    "Tuple1 = (0, 1, 2, 3)\n",
    "Tuple2 = ('python', 'geek')\n",
    "Tuple3 = (Tuple1, Tuple2)\n",
    "print(\"\\nTuple with nested tuples: \")\n",
    "print(Tuple3)\n",
    "print(Tuple3[0])\n",
    "\n",
    "# Creating a Tuple\n",
    "# with nested tuples\n",
    "Tuple1 = 0, 1, 2, 3\n",
    "print(\"\\nTuple Packing: \")\n",
    "print(Tuple1)"
   ]
  },
  {
   "cell_type": "code",
   "execution_count": 45,
   "id": "27f443ed",
   "metadata": {},
   "outputs": [
    {
     "name": "stdout",
     "output_type": "stream",
     "text": [
      "140717841328208\n",
      "140717841331088\n"
     ]
    }
   ],
   "source": [
    "# all the inbuilt data types like int, float are immutable\n",
    "\n",
    "a=10\n",
    "print(id(a))\n",
    "a=100\n",
    "print(id(a))"
   ]
  },
  {
   "cell_type": "code",
   "execution_count": 53,
   "id": "1026472c",
   "metadata": {},
   "outputs": [
    {
     "name": "stdout",
     "output_type": "stream",
     "text": [
      "[1, 2, 3, 4, 5]\n",
      "2008672784000\n",
      "[1, 6, 3, 4, 5]\n",
      "2008672784000\n"
     ]
    }
   ],
   "source": [
    "# List is mutable\n",
    "list1=[1,2,3,4,5]\n",
    "print(list1)\n",
    "print(id(list1))\n",
    "list1[1]=6\n",
    "print(list1)\n",
    "print(id(list1))"
   ]
  },
  {
   "cell_type": "markdown",
   "id": "aeec49b2",
   "metadata": {},
   "source": [
    "**Accessing elements of Tuple**\n",
    "\n",
    "    In order to access the tuple items refer to the index number. Use the index operator [ ] to access an item in a tuple. The index must be an integer. Nested tuples are accessed using nested indexing."
   ]
  },
  {
   "cell_type": "code",
   "execution_count": 52,
   "id": "8c6a0bb7",
   "metadata": {},
   "outputs": [
    {
     "name": "stdout",
     "output_type": "stream",
     "text": [
      "First element of tuple\n",
      "1\n",
      "(1, 2)\n",
      "\n",
      "Last element of tuple\n",
      "5\n",
      "\n",
      "Third last element of tuple\n",
      "3\n"
     ]
    }
   ],
   "source": [
    "# Python program to\n",
    "# demonstrate accessing tuple\n",
    "\n",
    "tuple1 = (1, 2, 3, 4, 5)\n",
    "\n",
    "# Accessing element using indexing\n",
    "print(\"First element of tuple\")\n",
    "print(tuple1[0])\n",
    "tuple2=tuple1[0:2]\n",
    "print(tuple2)\n",
    "# Accessing element from last\n",
    "# negative indexing\n",
    "print(\"\\nLast element of tuple\")\n",
    "print(tuple1[-1])\n",
    "\n",
    "print(\"\\nThird last element of tuple\")\n",
    "print(tuple1[-3])\n"
   ]
  },
  {
   "cell_type": "markdown",
   "id": "d05ca001",
   "metadata": {},
   "source": [
    "# Boolean\n",
    "    Data type with one of the two built-in values, True or False.\n",
    "    True and False with capital ‘T’ and ‘F’ are valid booleans otherwise python will throw an error."
   ]
  },
  {
   "cell_type": "code",
   "execution_count": 15,
   "id": "f0a769df",
   "metadata": {},
   "outputs": [
    {
     "name": "stdout",
     "output_type": "stream",
     "text": [
      "<class 'bool'>\n",
      "<class 'bool'>\n"
     ]
    },
    {
     "ename": "NameError",
     "evalue": "name 'true' is not defined",
     "output_type": "error",
     "traceback": [
      "\u001b[1;31m---------------------------------------------------------------------------\u001b[0m",
      "\u001b[1;31mNameError\u001b[0m                                 Traceback (most recent call last)",
      "\u001b[1;32m<ipython-input-15-835ffa49952b>\u001b[0m in \u001b[0;36m<module>\u001b[1;34m\u001b[0m\n\u001b[0;32m      5\u001b[0m \u001b[0mprint\u001b[0m\u001b[1;33m(\u001b[0m\u001b[0mtype\u001b[0m\u001b[1;33m(\u001b[0m\u001b[1;32mFalse\u001b[0m\u001b[1;33m)\u001b[0m\u001b[1;33m)\u001b[0m\u001b[1;33m\u001b[0m\u001b[1;33m\u001b[0m\u001b[0m\n\u001b[0;32m      6\u001b[0m \u001b[1;33m\u001b[0m\u001b[0m\n\u001b[1;32m----> 7\u001b[1;33m \u001b[0mprint\u001b[0m\u001b[1;33m(\u001b[0m\u001b[0mtype\u001b[0m\u001b[1;33m(\u001b[0m\u001b[0mtrue\u001b[0m\u001b[1;33m)\u001b[0m\u001b[1;33m)\u001b[0m\u001b[1;33m\u001b[0m\u001b[1;33m\u001b[0m\u001b[0m\n\u001b[0m",
      "\u001b[1;31mNameError\u001b[0m: name 'true' is not defined"
     ]
    }
   ],
   "source": [
    "# Python program to\n",
    "# demonstrate boolean type\n",
    "\n",
    "print(type(True))\n",
    "print(type(False))\n",
    "\n",
    "print(type(true))\n"
   ]
  },
  {
   "cell_type": "markdown",
   "id": "522102c0",
   "metadata": {},
   "source": [
    "# Scope of Variables"
   ]
  },
  {
   "cell_type": "code",
   "execution_count": 17,
   "id": "94247695",
   "metadata": {},
   "outputs": [
    {
     "name": "stdout",
     "output_type": "stream",
     "text": [
      "Inside the function local total :  30\n",
      "Outside the function global total :  0\n"
     ]
    }
   ],
   "source": [
    "total = 0; # This is global variable.\n",
    "# Function definition is here\n",
    "def sum( arg1, arg2 ):\n",
    "   # Add both the parameters and return them.\"\n",
    "    total = arg1 + arg2; # Here total is local variable.\n",
    "    print (\"Inside the function local total : \", total)\n",
    "    return total;\n",
    "\n",
    "# Now you can call sum function\n",
    "sum( 10, 20 );\n",
    "print(\"Outside the function global total : \", total )"
   ]
  },
  {
   "cell_type": "code",
   "execution_count": null,
   "id": "d264740e",
   "metadata": {},
   "outputs": [],
   "source": [
    "# Other Data Types : https://www.geeksforgeeks.org/python-data-types/"
   ]
  }
 ],
 "metadata": {
  "kernelspec": {
   "display_name": "Python 3",
   "language": "python",
   "name": "python3"
  },
  "language_info": {
   "codemirror_mode": {
    "name": "ipython",
    "version": 3
   },
   "file_extension": ".py",
   "mimetype": "text/x-python",
   "name": "python",
   "nbconvert_exporter": "python",
   "pygments_lexer": "ipython3",
   "version": "3.8.8"
  }
 },
 "nbformat": 4,
 "nbformat_minor": 5
}
